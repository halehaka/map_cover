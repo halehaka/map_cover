{
 "cells": [
  {
   "cell_type": "code",
   "execution_count": 1,
   "metadata": {},
   "outputs": [
    {
     "name": "stderr",
     "output_type": "stream",
     "text": [
      "2023-06-19 09:21:08.671340: E tensorflow/stream_executor/cuda/cuda_blas.cc:2981] Unable to register cuBLAS factory: Attempting to register factory for plugin cuBLAS when one has already been registered\n",
      "2023-06-19 09:21:09.346321: W tensorflow/stream_executor/platform/default/dso_loader.cc:64] Could not load dynamic library 'libnvinfer.so.7'; dlerror: libnvinfer.so.7: cannot open shared object file: No such file or directory\n",
      "2023-06-19 09:21:09.346412: W tensorflow/stream_executor/platform/default/dso_loader.cc:64] Could not load dynamic library 'libnvinfer_plugin.so.7'; dlerror: libnvinfer_plugin.so.7: cannot open shared object file: No such file or directory\n",
      "2023-06-19 09:21:09.346419: W tensorflow/compiler/tf2tensorrt/utils/py_utils.cc:38] TF-TRT Warning: Cannot dlopen some TensorRT libraries. If you would like to use Nvidia GPU with TensorRT, please make sure the missing libraries mentioned above are installed properly.\n"
     ]
    },
    {
     "name": "stdout",
     "output_type": "stream",
     "text": [
      "WARNING:tensorflow:There are non-GPU devices in `tf.distribute.Strategy`, not using nccl allreduce.\n",
      "INFO:tensorflow:Using MirroredStrategy with devices ('/job:localhost/replica:0/task:0/device:CPU:0',)\n"
     ]
    },
    {
     "name": "stderr",
     "output_type": "stream",
     "text": [
      "2023-06-19 09:21:10.867233: W tensorflow/stream_executor/platform/default/dso_loader.cc:64] Could not load dynamic library 'libcudnn.so.8'; dlerror: libcudnn.so.8: cannot open shared object file: No such file or directory; LD_LIBRARY_PATH: /home/karpase/.local/lib/python3.10/site-packages/cv2/../../lib64:\n",
      "2023-06-19 09:21:10.867314: W tensorflow/core/common_runtime/gpu/gpu_device.cc:1934] Cannot dlopen some GPU libraries. Please make sure the missing libraries mentioned above are installed properly if you would like to use GPU. Follow the guide at https://www.tensorflow.org/install/gpu for how to download and setup the required libraries for your platform.\n",
      "Skipping registering GPU devices...\n"
     ]
    }
   ],
   "source": [
    "import predict\n",
    "import cv2\n",
    "import numpy\n",
    "from matplotlib import pyplot as plt\n",
    "import math\n",
    "from map import Map\n",
    "from grid import DiscreteProbabilityDistribution"
   ]
  },
  {
   "attachments": {},
   "cell_type": "markdown",
   "metadata": {},
   "source": [
    "## Load the NN model"
   ]
  },
  {
   "cell_type": "code",
   "execution_count": 2,
   "metadata": {},
   "outputs": [
    {
     "name": "stdout",
     "output_type": "stream",
     "text": [
      "{0: DiscreteProbabilityDistribution: {0: 1.0}, 1: DiscreteProbabilityDistribution: {0: 0.9, 1: 0.1}, 2: DiscreteProbabilityDistribution: {0: 0.8, 1: 0.1, 5: 0.1}, 3: DiscreteProbabilityDistribution: {0: 1.0}, 4: DiscreteProbabilityDistribution: {0: 0.7, 1: 0.1, 5: 0.1, 10: 0.1}}\n"
     ]
    }
   ],
   "source": [
    "model_name = \"../resource/v7-LandCover-retrained-twice\"\n",
    "model = predict.load_model(model_name)\n",
    "\n",
    "cover_distributions_filename = \"../resource/cover_distribution.yaml\"\n",
    "cover_distributions = predict.load_cover_distributions(cover_distributions_filename)\n",
    "print(cover_distributions)\n"
   ]
  },
  {
   "attachments": {},
   "cell_type": "markdown",
   "metadata": {},
   "source": [
    "## Load and Show the map"
   ]
  },
  {
   "cell_type": "code",
   "execution_count": 3,
   "metadata": {},
   "outputs": [
    {
     "data": {
      "text/plain": [
       "<matplotlib.image.AxesImage at 0x7fa4349a5db0>"
      ]
     },
     "execution_count": 3,
     "metadata": {},
     "output_type": "execute_result"
    }
   ],
   "source": [
    "\n",
    "map = Map(0, 100, 0, 100, \"kaka_input.tif\")\n",
    "\n",
    "polygons = [\n",
    "    ((10, 10), (10,20), (40, 10)),\n",
    "    ((35, 35), (45, 45), (35, 55), (25, 45)),\n",
    "    ((60,60), (60, 90), (90, 90), (90, 60))\n",
    "]\n",
    "\n",
    "polygon_disributions = [\n",
    "    DiscreteProbabilityDistribution({1: 0.8, 5: 0.2}),\n",
    "    DiscreteProbabilityDistribution({5: 0.9, 10: 0.1}),\n",
    "    DiscreteProbabilityDistribution({1: 0.3, 5: 0.2, 10: 0.5}),\n",
    "]\n",
    "\n",
    "\n",
    "map_grid_cell_size = (10, 10)\n",
    "\n",
    "plt.title('Input Map')\n",
    "plt.imshow(map.image)"
   ]
  },
  {
   "attachments": {},
   "cell_type": "markdown",
   "metadata": {},
   "source": [
    "## Predict the cover labels\n"
   ]
  },
  {
   "cell_type": "code",
   "execution_count": null,
   "metadata": {},
   "outputs": [],
   "source": [
    "pred = predict.image_to_pixel_cover(model, map.image)\n",
    "map_pred = Map(0, 100, 0, 100, pred)\n"
   ]
  },
  {
   "attachments": {},
   "cell_type": "markdown",
   "metadata": {},
   "source": [
    "## Show the cover labels\n",
    "\n",
    "\n",
    "* black - Background\n",
    "* red - building\n",
    "* green - woodland\n",
    "* blue - water\n",
    "* white - road\n"
   ]
  },
  {
   "cell_type": "code",
   "execution_count": null,
   "metadata": {},
   "outputs": [],
   "source": [
    "plt.title('Cover Labels')\n",
    "plt.imshow(map_pred.colormap())\n"
   ]
  },
  {
   "attachments": {},
   "cell_type": "markdown",
   "metadata": {},
   "source": [
    "## Add the Polygons to the Cover Labels\n",
    "\n",
    "Each polygon gets a unique color\n"
   ]
  },
  {
   "cell_type": "code",
   "execution_count": null,
   "metadata": {},
   "outputs": [],
   "source": [
    "polygon_id = predict.NUM_CLASSES\n",
    "\n",
    "for p, d in zip(polygons, polygon_disributions):     \n",
    "    map_pred.color_polygon(p, polygon_id)   \n",
    "    cover_distributions[polygon_id] = d\n",
    "    polygon_id = polygon_id + 1\n",
    "    \n",
    "print(cover_distributions)\n",
    "\n",
    "plt.imshow(map_pred.colormap())\n",
    "plt.title('Map with Polygons')    \n",
    "\n"
   ]
  },
  {
   "attachments": {},
   "cell_type": "markdown",
   "metadata": {},
   "source": [
    "## Overlay a Grid\n"
   ]
  },
  {
   "cell_type": "code",
   "execution_count": null,
   "metadata": {},
   "outputs": [],
   "source": [
    "grid = map_pred.to_grid(map_grid_cell_size[0], map_grid_cell_size[1], cover_distributions)\n",
    "\n",
    "\n",
    "print(grid)\n"
   ]
  }
 ],
 "metadata": {
  "kernelspec": {
   "display_name": "Python 3",
   "language": "python",
   "name": "python3"
  },
  "language_info": {
   "codemirror_mode": {
    "name": "ipython",
    "version": 3
   },
   "file_extension": ".py",
   "mimetype": "text/x-python",
   "name": "python",
   "nbconvert_exporter": "python",
   "pygments_lexer": "ipython3",
   "version": "3.10.6"
  },
  "orig_nbformat": 4
 },
 "nbformat": 4,
 "nbformat_minor": 2
}
